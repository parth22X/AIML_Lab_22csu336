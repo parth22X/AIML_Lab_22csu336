{
  "nbformat": 4,
  "nbformat_minor": 0,
  "metadata": {
    "colab": {
      "provenance": [],
      "authorship_tag": "ABX9TyObgKQ7fPmiDgJ45adDteF0",
      "include_colab_link": true
    },
    "kernelspec": {
      "name": "python3",
      "display_name": "Python 3"
    },
    "language_info": {
      "name": "python"
    }
  },
  "cells": [
    {
      "cell_type": "markdown",
      "metadata": {
        "id": "view-in-github",
        "colab_type": "text"
      },
      "source": [
        "<a href=\"https://colab.research.google.com/github/parth22X/AIML_Lab_22csu336/blob/main/Exp2_22csu336.ipynb\" target=\"_parent\"><img src=\"https://colab.research.google.com/assets/colab-badge.svg\" alt=\"Open In Colab\"/></a>"
      ]
    },
    {
      "cell_type": "code",
      "execution_count": null,
      "metadata": {
        "id": "kTrKjQ8nHsu3"
      },
      "outputs": [],
      "source": [
        "import numpy as np"
      ]
    },
    {
      "cell_type": "code",
      "source": [
        "import numpy as np\n",
        "array1 = np.array([1, 22, 4, 5])\n",
        "array2 = np.array([7, 11, 3, 8])\n",
        "array3 = np.array([2, 13, 6, 9])\n",
        "\n",
        "# Adding the three arrays\n",
        "added_array = array1 + array2 + array3\n",
        "\n",
        "# Sorting the added array\n",
        "sorted_added_array = np.sort(added_array)\n",
        "\n",
        "# Displaying the results\n",
        "print(\"Added Array:\", added_array)\n",
        "print(\"Sorted Added Array:\", sorted_added_array)\n"
      ],
      "metadata": {
        "colab": {
          "base_uri": "https://localhost:8080/"
        },
        "id": "nyP43TJGHzAj",
        "outputId": "b6772b4d-1739-4005-cbe7-61dd216b932f"
      },
      "execution_count": 3,
      "outputs": [
        {
          "output_type": "stream",
          "name": "stdout",
          "text": [
            "Added Array: [10 46 13 22]\n",
            "Sorted Added Array: [10 13 22 46]\n"
          ]
        }
      ]
    },
    {
      "cell_type": "code",
      "source": [
        "d=np.array([(1,2,3),(4,5,6)])\n",
        "e=np.array([(7,3,1),(14,15,36)])\n",
        "print(d+e)\n",
        "print(e)"
      ],
      "metadata": {
        "colab": {
          "base_uri": "https://localhost:8080/"
        },
        "id": "lQVn0CrxSrgW",
        "outputId": "ea13c94b-5e6d-49be-cd5e-335551f0af1d"
      },
      "execution_count": 4,
      "outputs": [
        {
          "output_type": "stream",
          "name": "stdout",
          "text": [
            "[[ 8  5  4]\n",
            " [18 20 42]]\n",
            "[[ 7  3  1]\n",
            " [14 15 36]]\n"
          ]
        }
      ]
    },
    {
      "cell_type": "code",
      "source": [
        "g=np.zeros((3,3))\n",
        "g"
      ],
      "metadata": {
        "colab": {
          "base_uri": "https://localhost:8080/"
        },
        "id": "pZRXZHQoStDg",
        "outputId": "33977ef7-b8b8-4a92-bd8c-eea05e115b32"
      },
      "execution_count": 5,
      "outputs": [
        {
          "output_type": "execute_result",
          "data": {
            "text/plain": [
              "array([[0., 0., 0.],\n",
              "       [0., 0., 0.],\n",
              "       [0., 0., 0.]])"
            ]
          },
          "metadata": {},
          "execution_count": 5
        }
      ]
    },
    {
      "cell_type": "code",
      "source": [
        "i=np.arange(10,25,5)\n",
        "i"
      ],
      "metadata": {
        "colab": {
          "base_uri": "https://localhost:8080/"
        },
        "id": "hkdyjBtZSs8N",
        "outputId": "cc4a160d-f569-4731-89ad-b11b687bb898"
      },
      "execution_count": 6,
      "outputs": [
        {
          "output_type": "execute_result",
          "data": {
            "text/plain": [
              "array([10, 15, 20])"
            ]
          },
          "metadata": {},
          "execution_count": 6
        }
      ]
    },
    {
      "cell_type": "code",
      "source": [
        "k=np.full((2,2),7)\n",
        "k"
      ],
      "metadata": {
        "colab": {
          "base_uri": "https://localhost:8080/"
        },
        "id": "2iP1_Le_Ssz5",
        "outputId": "84ba37ea-763b-44c6-94ad-9e80fea365ba"
      },
      "execution_count": 7,
      "outputs": [
        {
          "output_type": "execute_result",
          "data": {
            "text/plain": [
              "array([[7, 7],\n",
              "       [7, 7]])"
            ]
          },
          "metadata": {},
          "execution_count": 7
        }
      ]
    },
    {
      "cell_type": "code",
      "source": [
        "l=np.eye(2)\n",
        "l"
      ],
      "metadata": {
        "colab": {
          "base_uri": "https://localhost:8080/"
        },
        "id": "gc2O-rWbSsm3",
        "outputId": "2a96a414-08c5-42ed-f252-c90581ac81d5"
      },
      "execution_count": 8,
      "outputs": [
        {
          "output_type": "execute_result",
          "data": {
            "text/plain": [
              "array([[1., 0.],\n",
              "       [0., 1.]])"
            ]
          },
          "metadata": {},
          "execution_count": 8
        }
      ]
    },
    {
      "cell_type": "code",
      "source": [
        "n=np.random.random((2,2))\n",
        "n"
      ],
      "metadata": {
        "colab": {
          "base_uri": "https://localhost:8080/"
        },
        "id": "n5YIxkLUSsV7",
        "outputId": "ee5c5505-f051-4386-8ed6-7027242c4527"
      },
      "execution_count": 9,
      "outputs": [
        {
          "output_type": "execute_result",
          "data": {
            "text/plain": [
              "array([[0.59787899, 0.89450437],\n",
              "       [0.18615631, 0.75239068]])"
            ]
          },
          "metadata": {},
          "execution_count": 9
        }
      ]
    },
    {
      "cell_type": "code",
      "source": [
        "ones_array = np.ones((3, 4))\n",
        "print(\"Ones Array:\\n\", ones_array)"
      ],
      "metadata": {
        "colab": {
          "base_uri": "https://localhost:8080/"
        },
        "id": "3Y0KWgq7VA9F",
        "outputId": "7e8b41ab-f6d7-4358-f30c-6328fb46d2a6"
      },
      "execution_count": 10,
      "outputs": [
        {
          "output_type": "stream",
          "name": "stdout",
          "text": [
            "Ones Array:\n",
            " [[1. 1. 1. 1.]\n",
            " [1. 1. 1. 1.]\n",
            " [1. 1. 1. 1.]]\n"
          ]
        }
      ]
    },
    {
      "cell_type": "code",
      "source": [
        "empty_array = np.empty((2, 3))\n",
        "print(\"Empty Array:\\n\", empty_array)"
      ],
      "metadata": {
        "colab": {
          "base_uri": "https://localhost:8080/"
        },
        "id": "6-ssIuo8VA1z",
        "outputId": "614cf287-72fd-47a0-cfe8-3296141feb22"
      },
      "execution_count": 11,
      "outputs": [
        {
          "output_type": "stream",
          "name": "stdout",
          "text": [
            "Empty Array:\n",
            " [[3.95e-323 2.47e-323 1.98e-323]\n",
            " [8.89e-323 9.88e-323 2.08e-322]]\n"
          ]
        }
      ]
    },
    {
      "cell_type": "code",
      "source": [
        "np.info(np.ones)"
      ],
      "metadata": {
        "colab": {
          "base_uri": "https://localhost:8080/"
        },
        "id": "wmPZhKCVVAql",
        "outputId": "5cfd06e6-beb3-474e-c969-43c0b20f25b6"
      },
      "execution_count": 12,
      "outputs": [
        {
          "output_type": "stream",
          "name": "stdout",
          "text": [
            " ones(shape, dtype=None, order='C', *, like=None)\n",
            "\n",
            "Return a new array of given shape and type, filled with ones.\n",
            "\n",
            "Parameters\n",
            "----------\n",
            "shape : int or sequence of ints\n",
            "    Shape of the new array, e.g., ``(2, 3)`` or ``2``.\n",
            "dtype : data-type, optional\n",
            "    The desired data-type for the array, e.g., `numpy.int8`.  Default is\n",
            "    `numpy.float64`.\n",
            "order : {'C', 'F'}, optional, default: C\n",
            "    Whether to store multi-dimensional data in row-major\n",
            "    (C-style) or column-major (Fortran-style) order in\n",
            "    memory.\n",
            "like : array_like, optional\n",
            "    Reference object to allow the creation of arrays which are not\n",
            "    NumPy arrays. If an array-like passed in as ``like`` supports\n",
            "    the ``__array_function__`` protocol, the result will be defined\n",
            "    by it. In this case, it ensures the creation of an array object\n",
            "    compatible with that passed in via this argument.\n",
            "\n",
            "    .. versionadded:: 1.20.0\n",
            "\n",
            "Returns\n",
            "-------\n",
            "out : ndarray\n",
            "    Array of ones with the given shape, dtype, and order.\n",
            "\n",
            "See Also\n",
            "--------\n",
            "ones_like : Return an array of ones with shape and type of input.\n",
            "empty : Return a new uninitialized array.\n",
            "zeros : Return a new array setting values to zero.\n",
            "full : Return a new array of given shape filled with value.\n",
            "\n",
            "\n",
            "Examples\n",
            "--------\n",
            ">>> np.ones(5)\n",
            "array([1., 1., 1., 1., 1.])\n",
            "\n",
            ">>> np.ones((5,), dtype=int)\n",
            "array([1, 1, 1, 1, 1])\n",
            "\n",
            ">>> np.ones((2, 1))\n",
            "array([[1.],\n",
            "       [1.]])\n",
            "\n",
            ">>> s = (2,2)\n",
            ">>> np.ones(s)\n",
            "array([[1.,  1.],\n",
            "       [1.,  1.]])\n"
          ]
        }
      ]
    },
    {
      "cell_type": "code",
      "source": [
        "array_to_save = np.array([1, 2, 3, 4, 5])\n",
        "np.save('saved_array.npy', array_to_save)"
      ],
      "metadata": {
        "id": "QJmYktWFVAnu"
      },
      "execution_count": 13,
      "outputs": []
    },
    {
      "cell_type": "code",
      "source": [
        "array1 = np.array([1, 2, 3])\n",
        "array2 = np.array([4, 5, 6])\n",
        "\n",
        "# Saving the arrays to a file\n",
        "np.savez('saved_arrays.npz', array1=array1, array2=array2)"
      ],
      "metadata": {
        "id": "2_jrGmM2VAlM"
      },
      "execution_count": 14,
      "outputs": []
    },
    {
      "cell_type": "code",
      "source": [
        "loaded_array = np.load('saved_array.npy')\n",
        "print(\"Loaded Array:\", loaded_array)\n",
        "\n",
        "# Loading multiple arrays from a .npz file\n",
        "loaded_arrays = np.load('saved_arrays.npz')\n",
        "print(\"Loaded Array 1:\", loaded_arrays['array1'])\n",
        "print(\"Loaded Array 2:\", loaded_arrays['array2'])"
      ],
      "metadata": {
        "colab": {
          "base_uri": "https://localhost:8080/"
        },
        "id": "gqMSXQYMVAix",
        "outputId": "158470d9-7e86-4d1a-e01b-e2ce834f3a70"
      },
      "execution_count": 15,
      "outputs": [
        {
          "output_type": "stream",
          "name": "stdout",
          "text": [
            "Loaded Array: [1 2 3 4 5]\n",
            "Loaded Array 1: [1 2 3]\n",
            "Loaded Array 2: [4 5 6]\n"
          ]
        }
      ]
    },
    {
      "cell_type": "code",
      "source": [
        "np.savetxt('data.txt', np.array([[1.5, 2.5], [3.5, 4.5]]), delimiter=',')\n",
        "\n",
        "# Loading the data from the text file\n",
        "loaded_txt_array = np.loadtxt('data.txt', delimiter=',')\n",
        "print(\"Loaded Text Array:\\n\", loaded_txt_array)"
      ],
      "metadata": {
        "colab": {
          "base_uri": "https://localhost:8080/"
        },
        "id": "7b9TMSaTVAgb",
        "outputId": "0841f0ef-4084-4dff-e42e-152a07e3911f"
      },
      "execution_count": 16,
      "outputs": [
        {
          "output_type": "stream",
          "name": "stdout",
          "text": [
            "Loaded Text Array:\n",
            " [[1.5 2.5]\n",
            " [3.5 4.5]]\n"
          ]
        }
      ]
    },
    {
      "cell_type": "code",
      "source": [
        "with open('data_with_missing.txt', 'w') as f:\n",
        "    f.write('1.0, 2.0, 3.0\\n')\n",
        "    f.write('4.0, , 6.0\\n')\n",
        "    f.write('7.0, 8.0, 9.0\\n')\n",
        "\n",
        "# Loading the data from the text file, treating missing values as NaN\n",
        "loaded_genfromtxt_array = np.genfromtxt('data_with_missing.txt', delimiter=',')\n",
        "print(\"Loaded Genfromtxt Array:\\n\", loaded_genfromtxt_array)"
      ],
      "metadata": {
        "colab": {
          "base_uri": "https://localhost:8080/"
        },
        "id": "mNusK694VAd1",
        "outputId": "ed2d7d3b-cd9f-4680-fcfa-e9ab38769505"
      },
      "execution_count": 17,
      "outputs": [
        {
          "output_type": "stream",
          "name": "stdout",
          "text": [
            "Loaded Genfromtxt Array:\n",
            " [[ 1.  2.  3.]\n",
            " [ 4. nan  6.]\n",
            " [ 7.  8.  9.]]\n"
          ]
        }
      ]
    },
    {
      "cell_type": "code",
      "source": [],
      "metadata": {
        "id": "k8ChoCORVAbg"
      },
      "execution_count": null,
      "outputs": []
    },
    {
      "cell_type": "code",
      "source": [],
      "metadata": {
        "id": "6dHGasTvVAY4"
      },
      "execution_count": null,
      "outputs": []
    },
    {
      "cell_type": "code",
      "source": [],
      "metadata": {
        "id": "-yfNvdosVAWD"
      },
      "execution_count": null,
      "outputs": []
    },
    {
      "cell_type": "code",
      "source": [],
      "metadata": {
        "id": "OqgZfnRhVARF"
      },
      "execution_count": null,
      "outputs": []
    },
    {
      "cell_type": "code",
      "source": [],
      "metadata": {
        "id": "TgyHvS-NVAJ1"
      },
      "execution_count": null,
      "outputs": []
    },
    {
      "cell_type": "code",
      "source": [],
      "metadata": {
        "id": "SV7vO4O-U__c"
      },
      "execution_count": null,
      "outputs": []
    }
  ]
}