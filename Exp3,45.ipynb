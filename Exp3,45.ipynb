{
  "nbformat": 4,
  "nbformat_minor": 0,
  "metadata": {
    "colab": {
      "provenance": [],
      "include_colab_link": true
    },
    "kernelspec": {
      "name": "python3",
      "display_name": "Python 3"
    },
    "language_info": {
      "name": "python"
    }
  },
  "cells": [
    {
      "cell_type": "markdown",
      "metadata": {
        "id": "view-in-github",
        "colab_type": "text"
      },
      "source": [
        "<a href=\"https://colab.research.google.com/github/parth22X/AIML_Lab_22csu336/blob/main/Copy_of_Python_Codes_1.ipynb\" target=\"_parent\"><img src=\"https://colab.research.google.com/assets/colab-badge.svg\" alt=\"Open In Colab\"/></a>"
      ]
    },
    {
      "cell_type": "code",
      "execution_count": null,
      "metadata": {
        "id": "Vy6r30avGb2f"
      },
      "outputs": [],
      "source": [
        "import numpy as np\n"
      ]
    },
    {
      "cell_type": "code",
      "source": [
        "\n",
        "a = np.array([1, 2, 3, 4])\n",
        "\n"
      ],
      "metadata": {
        "id": "hsRX4LUMGgyL"
      },
      "execution_count": null,
      "outputs": []
    },
    {
      "cell_type": "code",
      "source": [
        "b = np.array([5, 6, 7, 8])"
      ],
      "metadata": {
        "id": "e3t2fLgPG7ck"
      },
      "execution_count": null,
      "outputs": []
    },
    {
      "cell_type": "code",
      "source": [
        "c = np.array([9, 10, 11, 12])"
      ],
      "metadata": {
        "id": "Zl8quqUSHOfy"
      },
      "execution_count": null,
      "outputs": []
    },
    {
      "cell_type": "code",
      "source": [
        "d = a+b+c"
      ],
      "metadata": {
        "id": "as_9Iqa1HQir"
      },
      "execution_count": null,
      "outputs": []
    },
    {
      "cell_type": "code",
      "source": [
        "print(d)"
      ],
      "metadata": {
        "colab": {
          "base_uri": "https://localhost:8080/"
        },
        "id": "INBbudXXHYiL",
        "outputId": "665b9b6c-3dee-4ab9-a9a1-33382807c33d"
      },
      "execution_count": null,
      "outputs": [
        {
          "output_type": "stream",
          "name": "stdout",
          "text": [
            "[15 18 21 24]\n"
          ]
        }
      ]
    },
    {
      "cell_type": "code",
      "source": [
        "d.sort()"
      ],
      "metadata": {
        "id": "LepmIJvYHc9w"
      },
      "execution_count": null,
      "outputs": []
    },
    {
      "cell_type": "code",
      "source": [
        "d\n"
      ],
      "metadata": {
        "colab": {
          "base_uri": "https://localhost:8080/"
        },
        "id": "J-RRDgIrIMWB",
        "outputId": "8b8819ed-f4f6-4fb5-bd0f-3ad92e3b42c6"
      },
      "execution_count": null,
      "outputs": [
        {
          "output_type": "execute_result",
          "data": {
            "text/plain": [
              "array([15, 18, 21, 24])"
            ]
          },
          "metadata": {},
          "execution_count": 11
        }
      ]
    },
    {
      "cell_type": "code",
      "source": [
        "\n",
        "e = np.array([(1, 2, 3), (4, 5, 6)], dtype=float)\n",
        "print(e)"
      ],
      "metadata": {
        "colab": {
          "base_uri": "https://localhost:8080/"
        },
        "id": "v8QIaDKTIN7h",
        "outputId": "8a730202-06e6-4bdb-f901-c8390a965de9"
      },
      "execution_count": null,
      "outputs": [
        {
          "output_type": "stream",
          "name": "stdout",
          "text": [
            "[[1. 2. 3.]\n",
            " [4. 5. 6.]]\n"
          ]
        }
      ]
    },
    {
      "cell_type": "code",
      "source": [
        "\n",
        "e = np.array([(1, 2, 3), (4, 5, 6)], dtype=float)\n",
        "print(e)"
      ],
      "metadata": {
        "colab": {
          "base_uri": "https://localhost:8080/"
        },
        "id": "2ClGQ4WRJKOG",
        "outputId": "2877df6f-4c28-48e1-ae26-ffd2df4ad87d"
      },
      "execution_count": null,
      "outputs": [
        {
          "output_type": "stream",
          "name": "stdout",
          "text": [
            "[[1. 2. 3.]\n",
            " [4. 5. 6.]]\n"
          ]
        }
      ]
    },
    {
      "cell_type": "code",
      "source": [
        "g = np.zeros((3,3))"
      ],
      "metadata": {
        "id": "T8aggxc4JLx1"
      },
      "execution_count": null,
      "outputs": []
    },
    {
      "cell_type": "code",
      "source": [
        "g\n"
      ],
      "metadata": {
        "colab": {
          "base_uri": "https://localhost:8080/"
        },
        "id": "Ulz_DWHNKD7J",
        "outputId": "9b9ff7f1-75ed-4af4-b841-7732cd7ea0cd"
      },
      "execution_count": null,
      "outputs": [
        {
          "output_type": "execute_result",
          "data": {
            "text/plain": [
              "array([[0., 0., 0.],\n",
              "       [0., 0., 0.],\n",
              "       [0., 0., 0.]])"
            ]
          },
          "metadata": {},
          "execution_count": 15
        }
      ]
    },
    {
      "cell_type": "code",
      "source": [
        "\n",
        "e = np.array([(1, 2, 3), (4, 5, 6)], dtype=float)\n",
        "print(e)\n",
        "\n",
        "g = np.zeros((2, 3))  # Adjusted shape to match 'e'\n",
        "s = e * g\n",
        "print(s)\n"
      ],
      "metadata": {
        "colab": {
          "base_uri": "https://localhost:8080/"
        },
        "id": "uFBjftwEKE5k",
        "outputId": "7927d038-0112-434e-9453-9b482b9c8b3c"
      },
      "execution_count": null,
      "outputs": [
        {
          "output_type": "stream",
          "name": "stdout",
          "text": [
            "[[1. 2. 3.]\n",
            " [4. 5. 6.]]\n",
            "[[0. 0. 0.]\n",
            " [0. 0. 0.]]\n"
          ]
        }
      ]
    },
    {
      "cell_type": "code",
      "source": [
        "h = np.ones((2,4))\n",
        "h"
      ],
      "metadata": {
        "colab": {
          "base_uri": "https://localhost:8080/"
        },
        "id": "lEZvAystKLsY",
        "outputId": "56d4915c-90d1-4e7d-bcd2-20230fa00da7"
      },
      "execution_count": null,
      "outputs": [
        {
          "output_type": "execute_result",
          "data": {
            "text/plain": [
              "array([[1., 1., 1., 1.],\n",
              "       [1., 1., 1., 1.]])"
            ]
          },
          "metadata": {},
          "execution_count": 19
        }
      ]
    },
    {
      "cell_type": "code",
      "source": [
        "i = np.arange(10,25,5)\n",
        "i"
      ],
      "metadata": {
        "colab": {
          "base_uri": "https://localhost:8080/"
        },
        "id": "W3SdqzDxLK3I",
        "outputId": "ab013ad3-9462-4e40-e3ac-2fc6efef506f"
      },
      "execution_count": null,
      "outputs": [
        {
          "output_type": "execute_result",
          "data": {
            "text/plain": [
              "array([10, 15, 20])"
            ]
          },
          "metadata": {},
          "execution_count": 20
        }
      ]
    },
    {
      "cell_type": "code",
      "source": [
        "i"
      ],
      "metadata": {
        "colab": {
          "base_uri": "https://localhost:8080/"
        },
        "id": "Ko2775vELQ_P",
        "outputId": "53925ea7-15b6-44d9-9816-4ff3f98835d5"
      },
      "execution_count": null,
      "outputs": [
        {
          "output_type": "execute_result",
          "data": {
            "text/plain": [
              "array([10, 15, 20])"
            ]
          },
          "metadata": {},
          "execution_count": 21
        }
      ]
    },
    {
      "cell_type": "code",
      "source": [
        "j = np.linspace(0,2,9)"
      ],
      "metadata": {
        "id": "7G-VnhRNLUhW"
      },
      "execution_count": null,
      "outputs": []
    },
    {
      "cell_type": "code",
      "source": [
        "j"
      ],
      "metadata": {
        "colab": {
          "base_uri": "https://localhost:8080/"
        },
        "id": "Ri5-EDyKMMQE",
        "outputId": "5b4f3f67-5dae-4b22-c484-cdc3b1dc8fea"
      },
      "execution_count": null,
      "outputs": [
        {
          "output_type": "execute_result",
          "data": {
            "text/plain": [
              "array([0.  , 0.25, 0.5 , 0.75, 1.  , 1.25, 1.5 , 1.75, 2.  ])"
            ]
          },
          "metadata": {},
          "execution_count": 23
        }
      ]
    },
    {
      "cell_type": "code",
      "source": [
        "k  = np.full((2,2),7)\n",
        "k"
      ],
      "metadata": {
        "colab": {
          "base_uri": "https://localhost:8080/"
        },
        "id": "3puw3LbkM9BY",
        "outputId": "f7c570eb-c369-42c8-97b4-b9896b63104d"
      },
      "execution_count": null,
      "outputs": [
        {
          "output_type": "execute_result",
          "data": {
            "text/plain": [
              "array([[7, 7],\n",
              "       [7, 7]])"
            ]
          },
          "metadata": {},
          "execution_count": 24
        }
      ]
    },
    {
      "cell_type": "code",
      "source": [
        "l = np.eye(2)\n",
        "l"
      ],
      "metadata": {
        "colab": {
          "base_uri": "https://localhost:8080/"
        },
        "id": "K1g-dQOIMMwd",
        "outputId": "6b39e4c5-2faa-400e-80b6-681845caa5bb"
      },
      "execution_count": null,
      "outputs": [
        {
          "output_type": "execute_result",
          "data": {
            "text/plain": [
              "array([[1., 0.],\n",
              "       [0., 1.]])"
            ]
          },
          "metadata": {},
          "execution_count": 25
        }
      ]
    },
    {
      "cell_type": "code",
      "source": [
        "n = np.random.random((2,2))\n",
        "n"
      ],
      "metadata": {
        "colab": {
          "base_uri": "https://localhost:8080/"
        },
        "id": "vnQDqsCQNajv",
        "outputId": "dfaeda28-a134-44c6-bec6-eef9ad2019a0"
      },
      "execution_count": null,
      "outputs": [
        {
          "output_type": "execute_result",
          "data": {
            "text/plain": [
              "array([[0.71152908, 0.74754439],\n",
              "       [0.22784596, 0.82481526]])"
            ]
          },
          "metadata": {},
          "execution_count": 26
        }
      ]
    },
    {
      "cell_type": "code",
      "source": [
        "import pandas as pd\n",
        "import numpy as np\n",
        "\n",
        "# Creating a Pandas DataFrame from a dictionary\n",
        "data_dict = {\n",
        "    'Name': ['Alice', 'Bob', 'Charlie', 'David', 'Eva'],\n",
        "    'Age': [25, 30, 35, 40, 45],\n",
        "    'Salary': [50000, 60000, 70000, 80000, 90000]\n",
        "}\n",
        "\n",
        "df = pd.DataFrame(data_dict)\n",
        "print(\"DataFrame created from a dictionary:\")\n",
        "print(df)\n",
        "\n",
        "# Basic statistics\n",
        "print(\"\\nBasic statistics:\")\n",
        "print(df.describe())\n",
        "\n",
        "# Adding a new column\n",
        "df['Bonus'] = df['Salary'] * 0.10\n",
        "print(\"\\nDataFrame after adding a 'Bonus' column:\")\n",
        "print(df)\n",
        "\n",
        "# Filtering data\n",
        "high_salary_df = df[df['Salary'] > 60000]\n",
        "print(\"\\nFiltered DataFrame where 'Salary' > 60000:\")\n",
        "print(high_salary_df)\n",
        "\n",
        "# Grouping data\n",
        "grouped_df = df.groupby('Age').sum()\n",
        "print(\"\\nGrouped DataFrame by 'Age':\")\n",
        "print(grouped_df)\n",
        "\n",
        "# Handling missing data\n",
        "df_with_nan = df.copy()\n",
        "df_with_nan.loc[2, 'Salary'] = np.nan\n",
        "print(\"\\nDataFrame with NaN value:\")\n",
        "print(df_with_nan)\n",
        "\n",
        "# Filling missing data\n",
        "df_filled = df_with_nan.fillna(df_with_nan['Salary'].mean())\n",
        "print(\"\\nDataFrame after filling NaN values with the mean salary:\")\n",
        "print(df_filled)\n",
        "\n",
        "# Dropping missing data\n",
        "df_dropped = df_with_nan.dropna()\n",
        "print(\"\\nDataFrame after dropping rows with NaN values:\")\n",
        "print(df_dropped)\n",
        "\n",
        "# Merging DataFrames\n",
        "additional_data = {\n",
        "    'Name': ['Alice', 'Bob', 'Charlie', 'David', 'Eva'],\n",
        "    'Department': ['HR', 'Engineering', 'Finance', 'Marketing', 'Sales']\n",
        "}\n",
        "df_additional = pd.DataFrame(additional_data)\n",
        "\n",
        "merged_df = pd.merge(df, df_additional, on='Name')\n",
        "print(\"\\nMerged DataFrame:\")\n",
        "print(merged_df)\n",
        "\n",
        "# Pivot table\n",
        "pivot_df = merged_df.pivot_table(values='Salary', index='Department', columns='Age', aggfunc=np.mean)\n",
        "print(\"\\nPivot Table:\")\n",
        "print(pivot_df)\n",
        "\n",
        "# Sorting DataFrame by multiple columns\n",
        "sorted_df = df.sort_values(by=['Age', 'Salary'], ascending=[True, False])\n",
        "print(\"\\nDataFrame sorted by 'Age' (ascending) and 'Salary' (descending):\")\n",
        "print(sorted_df)\n",
        "\n",
        "# Applying functions to DataFrame columns\n",
        "import pandas as pd\n",
        "\n",
        "# Example DataFrame creation (replace this with your actual DataFrame)\n",
        "data = {\n",
        "    \"Salary\": [50000, 60000, 70000, 80000]\n",
        "}\n",
        "df = pd.DataFrame(data)\n",
        "\n",
        "# Apply a 5% increase to 'Salary' using vectorized operations\n",
        "df['Adjusted Salary'] = df['Salary'] * 1.05\n",
        "\n",
        "# Display the DataFrame after applying the increase\n",
        "print(\"\\nDataFrame after applying a 5% increase to 'Salary':\")\n",
        "print(df)\n",
        "\n"
      ],
      "metadata": {
        "id": "avXxXHKvOOcc",
        "colab": {
          "base_uri": "https://localhost:8080/"
        },
        "outputId": "3bae04f3-2f25-4706-d404-18623eb184bc"
      },
      "execution_count": null,
      "outputs": [
        {
          "output_type": "stream",
          "name": "stdout",
          "text": [
            "DataFrame created from a dictionary:\n",
            "      Name  Age  Salary\n",
            "0    Alice   25   50000\n",
            "1      Bob   30   60000\n",
            "2  Charlie   35   70000\n",
            "3    David   40   80000\n",
            "4      Eva   45   90000\n",
            "\n",
            "Basic statistics:\n",
            "             Age        Salary\n",
            "count   5.000000      5.000000\n",
            "mean   35.000000  70000.000000\n",
            "std     7.905694  15811.388301\n",
            "min    25.000000  50000.000000\n",
            "25%    30.000000  60000.000000\n",
            "50%    35.000000  70000.000000\n",
            "75%    40.000000  80000.000000\n",
            "max    45.000000  90000.000000\n",
            "\n",
            "DataFrame after adding a 'Bonus' column:\n",
            "      Name  Age  Salary   Bonus\n",
            "0    Alice   25   50000  5000.0\n",
            "1      Bob   30   60000  6000.0\n",
            "2  Charlie   35   70000  7000.0\n",
            "3    David   40   80000  8000.0\n",
            "4      Eva   45   90000  9000.0\n",
            "\n",
            "Filtered DataFrame where 'Salary' > 60000:\n",
            "      Name  Age  Salary   Bonus\n",
            "2  Charlie   35   70000  7000.0\n",
            "3    David   40   80000  8000.0\n",
            "4      Eva   45   90000  9000.0\n",
            "\n",
            "Grouped DataFrame by 'Age':\n",
            "        Name  Salary   Bonus\n",
            "Age                         \n",
            "25     Alice   50000  5000.0\n",
            "30       Bob   60000  6000.0\n",
            "35   Charlie   70000  7000.0\n",
            "40     David   80000  8000.0\n",
            "45       Eva   90000  9000.0\n",
            "\n",
            "DataFrame with NaN value:\n",
            "      Name  Age   Salary   Bonus\n",
            "0    Alice   25  50000.0  5000.0\n",
            "1      Bob   30  60000.0  6000.0\n",
            "2  Charlie   35      NaN  7000.0\n",
            "3    David   40  80000.0  8000.0\n",
            "4      Eva   45  90000.0  9000.0\n",
            "\n",
            "DataFrame after filling NaN values with the mean salary:\n",
            "      Name  Age   Salary   Bonus\n",
            "0    Alice   25  50000.0  5000.0\n",
            "1      Bob   30  60000.0  6000.0\n",
            "2  Charlie   35  70000.0  7000.0\n",
            "3    David   40  80000.0  8000.0\n",
            "4      Eva   45  90000.0  9000.0\n",
            "\n",
            "DataFrame after dropping rows with NaN values:\n",
            "    Name  Age   Salary   Bonus\n",
            "0  Alice   25  50000.0  5000.0\n",
            "1    Bob   30  60000.0  6000.0\n",
            "3  David   40  80000.0  8000.0\n",
            "4    Eva   45  90000.0  9000.0\n",
            "\n",
            "Merged DataFrame:\n",
            "      Name  Age  Salary   Bonus   Department\n",
            "0    Alice   25   50000  5000.0           HR\n",
            "1      Bob   30   60000  6000.0  Engineering\n",
            "2  Charlie   35   70000  7000.0      Finance\n",
            "3    David   40   80000  8000.0    Marketing\n",
            "4      Eva   45   90000  9000.0        Sales\n",
            "\n",
            "Pivot Table:\n",
            "Age               25       30       35       40       45\n",
            "Department                                              \n",
            "Engineering      NaN  60000.0      NaN      NaN      NaN\n",
            "Finance          NaN      NaN  70000.0      NaN      NaN\n",
            "HR           50000.0      NaN      NaN      NaN      NaN\n",
            "Marketing        NaN      NaN      NaN  80000.0      NaN\n",
            "Sales            NaN      NaN      NaN      NaN  90000.0\n",
            "\n",
            "DataFrame sorted by 'Age' (ascending) and 'Salary' (descending):\n",
            "      Name  Age  Salary   Bonus\n",
            "0    Alice   25   50000  5000.0\n",
            "1      Bob   30   60000  6000.0\n",
            "2  Charlie   35   70000  7000.0\n",
            "3    David   40   80000  8000.0\n",
            "4      Eva   45   90000  9000.0\n",
            "\n",
            "DataFrame after applying a 5% increase to 'Salary':\n",
            "   Salary  Adjusted Salary\n",
            "0   50000          52500.0\n",
            "1   60000          63000.0\n",
            "2   70000          73500.0\n",
            "3   80000          84000.0\n"
          ]
        },
        {
          "output_type": "stream",
          "name": "stderr",
          "text": [
            "<ipython-input-2-6f219f5f69c1>:62: FutureWarning: The provided callable <function mean at 0x7f6ae90ebd90> is currently using DataFrameGroupBy.mean. In a future version of pandas, the provided callable will be used directly. To keep current behavior pass the string \"mean\" instead.\n",
            "  pivot_df = merged_df.pivot_table(values='Salary', index='Department', columns='Age', aggfunc=np.mean)\n"
          ]
        }
      ]
    }
  ]
}
